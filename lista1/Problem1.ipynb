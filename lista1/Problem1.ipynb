{
 "cells": [
  {
   "cell_type": "markdown",
   "metadata": {},
   "source": [
    "<div align=\"center\">\n",
    "  <h1>Finding Optimal KNN Parameters for MNIST</h1>\n",
    "  <p style=\"font-size: 14px;\">28.10.2024</p>\n",
    "</div>\n",
    "\n",
    "---\n",
    "\n",
    "# Problem 1: Finding the Optimal *k* and Bootstrap Iterations\n",
    "\n",
    "#### **Introduction**\n",
    "\n",
    "In this problem, we apply the classical **K-Nearest Neighbors** (KNN) classifier to the task of classifying handwritten digits from the **MNIST** dataset. The primary objective is to determine the **optimal number of neighbors k** for the KNN algorithm, as well as the **optimal number of bootstrap iterations** required to accurately estimate the model's performance."
   ]
  },
  {
   "cell_type": "markdown",
   "metadata": {},
   "source": [
    "#### **Tools and Libraries**\n",
    "\n",
    "We will use the **KNeighborsClassifier** from the *sklearn.neighbors* library for implementing the KNN algorithm. The data we use is from **MNIST** dataset, which contains images of handwritten digits. Firstly, let's import the necessary libraries and load the data into our code."
   ]
  },
  {
   "cell_type": "markdown",
   "metadata": {},
   "source": [
    "###### Make sure you have latest pip version and pandas/scikit-learn packages "
   ]
  },
  {
   "cell_type": "code",
   "execution_count": 1,
   "metadata": {},
   "outputs": [],
   "source": [
    "from sklearn.neighbors import KNeighborsClassifier\n",
    "from sklearn.datasets import fetch_openml\n",
    "import pandas as pd\n",
    "import numpy as np\n",
    "from tqdm import tqdm"
   ]
  },
  {
   "cell_type": "markdown",
   "metadata": {},
   "source": [
    "#### **Data Analysis**\n",
    "\n",
    "Now let's **fetch** the data from the **scikit-learn** dataset and play around a little bit."
   ]
  },
  {
   "cell_type": "code",
   "execution_count": 2,
   "metadata": {},
   "outputs": [
    {
     "data": {
      "text/plain": [
       "dict_keys(['data', 'target', 'frame', 'categories', 'feature_names', 'target_names', 'DESCR', 'details', 'url'])"
      ]
     },
     "execution_count": 2,
     "metadata": {},
     "output_type": "execute_result"
    }
   ],
   "source": [
    "dataset = fetch_openml('mnist_784')\n",
    "dataset.keys()"
   ]
  },
  {
   "cell_type": "markdown",
   "metadata": {},
   "source": [
    "Variable \"dataset\" is of [Bunch](https://scikit-learn.org/1.5/modules/generated/sklearn.utils.Bunch.html#sklearn.utils.Bunch) type. Now we retrieve the actual data that interests us:"
   ]
  },
  {
   "cell_type": "code",
   "execution_count": 3,
   "metadata": {},
   "outputs": [
    {
     "name": "stdout",
     "output_type": "stream",
     "text": [
      "Data shape:  (70000, 784) \n",
      "\n",
      "0    5\n",
      "1    0\n",
      "2    4\n",
      "3    1\n",
      "4    9\n",
      "Name: class, dtype: category\n",
      "Categories (10, object): ['0', '1', '2', '3', ..., '6', '7', '8', '9']\n",
      "Labels shape:  (70000,)\n"
     ]
    }
   ],
   "source": [
    "data: pd.DataFrame = dataset['data']\n",
    "labels: pd.Series = dataset['target']\n",
    "\n",
    "labels.astype(int)\n",
    "\n",
    "data = data / 255.0\n",
    "\n",
    "print(\"Data shape: \", data.shape, '\\n')\n",
    "print(labels.head())\n",
    "print(\"Labels shape: \", labels.shape)"
   ]
  },
  {
   "cell_type": "markdown",
   "metadata": {},
   "source": [
    "As we can see, we have **70000** images, all of shape: **28x28** pixels. Thus we can say that every image lies somewhere in the $\\mathbb{R}^{784}$ **space grid**. This is the key observation that we will use later on when working with **KNN algorithm**.  \n",
    "\n",
    "Another key observation is that our labels consist of 10 categories: **numbers 0-9**\n",
    "and it's shape is **70000x1**. \n",
    "\n",
    "More about pandas DataFrame [here](https://pandas.pydata.org/docs/reference/api/pandas.DataFrame.html)."
   ]
  },
  {
   "cell_type": "markdown",
   "metadata": {},
   "source": [
    "#### **Data Preprocessing**\n",
    "\n",
    "1. The value of each pixel varies from **0 to 255**, so firstly we can scale every    pixel to be between **0 and 1** using pandas *in-place element-wise* operation.  \n",
    "   \n",
    "2. For faster experimentation let's limit ourselves to random 10% of the dataset."
   ]
  },
  {
   "cell_type": "code",
   "execution_count": 4,
   "metadata": {},
   "outputs": [
    {
     "name": "stdout",
     "output_type": "stream",
     "text": [
      "True\n"
     ]
    }
   ],
   "source": [
    "# We then merge the labels with the corresponding images.\n",
    "# Thus keeping track of the correct image labeling in our 10% sample\n",
    "data['label'] = labels\n",
    "\n",
    "data = data.sample(frac=0.1)\n",
    "\n",
    "labels = data['label'].to_numpy()\n",
    "data = data.drop('label', axis=1).values\n",
    "\n",
    "data = np.ascontiguousarray(data)\n",
    "labels = np.ascontiguousarray(labels)\n",
    "\n",
    "print(data.flags['C_CONTIGUOUS'])"
   ]
  },
  {
   "cell_type": "markdown",
   "metadata": {},
   "source": [
    "#### **KNN Classifier**\n",
    "\n",
    "Firstly, we need to **fit** our classifier to the data we sampled. This **training data** is stored and later used to **classify** arbitrary input we give it. Note that the name *training data* is a bit misleading, because there is no training process! \n",
    "\n",
    "The KNN algorithm works as follows (for some out-of-bag data):\n",
    "- Calculate distances to all the previously fitted data using [Euclidian](https://en.wikipedia.org/wiki/Euclidean_distance)/[Manhattan](https://en.wikipedia.org/wiki/Taxicab_geometry)/[Minkowski](https://en.wikipedia.org/wiki/Minkowski_distance)/... method.\n",
    "- Choose **top k** closest entries to our input\n",
    "- **Vote** for the class of our input data (as the *majority*)"
   ]
  },
  {
   "cell_type": "markdown",
   "metadata": {},
   "source": [
    "#### **Determining Optimal k and Bootstrap Iterations**\n",
    "\n",
    "Each **Bootstrap Iteration** consists of these steps:\n",
    "- **Resample** dataset with replacement (it's like sampling from population)\n",
    "- Fit sample to the KNN model\n",
    "- Validate the model on **OOB** data\n",
    "- Store the **accuracy** for each iteration"
   ]
  },
  {
   "cell_type": "markdown",
   "metadata": {},
   "source": [
    "Now for each k:\n",
    "1. Iterate through number *iters* of Bootstrap iterations\n",
    "2. For each number *iter* do *iter* times Bootstrap sampling\n",
    "3. Calculate the mean of accuracies over the iterations\n",
    "4. Store it for each *iters*\n",
    "5. Store this data for each *k*\n",
    "\n",
    "###### Note: Code below will take approximately 8.5 minutes to run..."
   ]
  },
  {
   "cell_type": "code",
   "execution_count": 13,
   "metadata": {},
   "outputs": [
    {
     "name": "stderr",
     "output_type": "stream",
     "text": [
      "100%|██████████| 8/8 [01:55<00:00, 14.48s/it]\n",
      "100%|██████████| 8/8 [01:56<00:00, 14.61s/it]\n",
      "100%|██████████| 8/8 [01:56<00:00, 14.59s/it]\n",
      "100%|██████████| 8/8 [01:57<00:00, 14.65s/it]\n",
      "100%|██████████| 8/8 [01:57<00:00, 14.63s/it]\n",
      "100%|██████████| 8/8 [01:56<00:00, 14.61s/it]\n",
      "100%|██████████| 8/8 [01:57<00:00, 14.74s/it]\n",
      "100%|██████████| 8/8 [01:57<00:00, 14.72s/it]\n",
      "100%|██████████| 8/8 [01:58<00:00, 14.78s/it]\n",
      "100%|██████████| 8/8 [01:58<00:00, 14.76s/it]"
     ]
    },
    {
     "name": "stdout",
     "output_type": "stream",
     "text": [
      "{1: [np.float64(0.928812289246909), np.float64(0.9348700540368156), np.float64(0.930521497330496), np.float64(0.9316460502823087), np.float64(0.9324408507986379), np.float64(0.9324405806785894), np.float64(0.9319381424251504), np.float64(0.9315382527302911)], 2: [np.float64(0.9186676994577847), np.float64(0.9262879160127315), np.float64(0.9234222467238218), np.float64(0.9219481999380622), np.float64(0.924377809718412), np.float64(0.9236396422739105), np.float64(0.9233389700359269), np.float64(0.922985277729486)], 3: [np.float64(0.9232866043613707), np.float64(0.925448423783299), np.float64(0.9262178203954942), np.float64(0.9251298337083363), np.float64(0.9247679941377857), np.float64(0.924829137045636), np.float64(0.9249267085777823), np.float64(0.9246435064105375)], 4: [np.float64(0.9159274971075974), np.float64(0.9236924277907885), np.float64(0.9230259485903765), np.float64(0.9217300372681275), np.float64(0.9214627168169831), np.float64(0.9209482179548479), np.float64(0.9209141511932751), np.float64(0.9216183747028812)], 5: [np.float64(0.9189608375339279), np.float64(0.9234049912149067), np.float64(0.9212757587724245), np.float64(0.9238004859462624), np.float64(0.9232029740219886), np.float64(0.92238685202732), np.float64(0.9226114758020046), np.float64(0.9232259993631933)], 6: [np.float64(0.9227272727272727), np.float64(0.9311940635929625), np.float64(0.9210667432787875), np.float64(0.9199181717282606), np.float64(0.9205292415183586), np.float64(0.9224962460938005), np.float64(0.9225397938650718), np.float64(0.9215088895825017)], 7: [np.float64(0.9284340130819546), np.float64(0.9253855359838647), np.float64(0.9204085636572639), np.float64(0.9248980549250393), np.float64(0.9239161858065564), np.float64(0.9231840087382263), np.float64(0.9231714125216762), np.float64(0.9231194449021433)], 8: [np.float64(0.9177606177606178), np.float64(0.9210840940731373), np.float64(0.9196597250095665), np.float64(0.9212629730005374), np.float64(0.9219937556695726), np.float64(0.9227663183654982), np.float64(0.9222207151016953), np.float64(0.9222338970536362)], 9: [np.float64(0.9186453873102375), np.float64(0.9225437543020435), np.float64(0.9226906982929381), np.float64(0.9204774035106272), np.float64(0.9224811410740519), np.float64(0.9222859584245103), np.float64(0.9225477067912047), np.float64(0.9224548829717829)], 10: [np.float64(0.9133462282398452), np.float64(0.918962375194263), np.float64(0.9213977040304407), np.float64(0.9224804654936176), np.float64(0.9209925670375558), np.float64(0.9220974617515755), np.float64(0.9213430322753136), np.float64(0.9212570787723808)]}\n"
     ]
    },
    {
     "name": "stderr",
     "output_type": "stream",
     "text": [
      "\n"
     ]
    }
   ],
   "source": [
    "k_range = range(1, 11)\n",
    "iter_range = [1, 2, 11, 22, 44, 88, 172, 344]\n",
    "result = {}\n",
    "np.random.seed(42)\n",
    "\n",
    "for k in k_range:\n",
    "  k_accuracy = []\n",
    "\n",
    "  for iters in tqdm(iter_range):\n",
    "    iter_accuracy = []\n",
    "    \n",
    "    for iter in range(iters):\n",
    "      indecies = np.random.choice(len(data), size=int(len(data)), replace=True)\n",
    "      y_train = labels[indecies]\n",
    "      x_train = data[indecies]\n",
    "\n",
    "      knn = KNeighborsClassifier(n_neighbors=k)\n",
    "\n",
    "      knn.fit(x_train, y_train)\n",
    "\n",
    "      x_valid = np.delete(data, indecies, axis=0)\n",
    "      y_valid = np.delete(labels, indecies, axis=0)\n",
    "\n",
    "      accuracy = knn.score(x_valid, y_valid)\n",
    "\n",
    "      iter_accuracy.append(accuracy)\n",
    "    \n",
    "    k_accuracy.append(np.mean(iter_accuracy))\n",
    "\n",
    "  result[k] = k_accuracy\n",
    "\n",
    "print(result)"
   ]
  },
  {
   "cell_type": "markdown",
   "metadata": {},
   "source": [
    "##### Finding optimal value for k\n",
    "\n",
    "As we see each value of k has some **mean accuracy for each number of Bootstrap iterations**. Now to determine which value for k is **optimal**, we can **compute means** of those accuracies and take **maximum**."
   ]
  },
  {
   "cell_type": "code",
   "execution_count": 14,
   "metadata": {},
   "outputs": [
    {
     "name": "stdout",
     "output_type": "stream",
     "text": [
      "1\n"
     ]
    }
   ],
   "source": [
    "optimal_k = -1\n",
    "optimal_mean = 0\n",
    "\n",
    "# Save for later\n",
    "mean_for_k = []\n",
    "\n",
    "for k, mean_accuracies in result.items():\n",
    "  mean = np.mean(mean_accuracies)\n",
    "  mean_for_k.append(mean)\n",
    "\n",
    "  if (mean > optimal_mean):\n",
    "    optimal_k = k\n",
    "    optimal_mean = mean\n",
    "\n",
    "print(optimal_k)"
   ]
  },
  {
   "cell_type": "markdown",
   "metadata": {},
   "source": [
    "As we see the optimal k value is **1** (as of the result I got while writing this paragraph).\n",
    "\n",
    "#### Finding optimal number of Bootstrap iterations\n",
    "\n",
    "Now for the **optimal k**, we deduce the best **number of iterations** by simply taking the **minimum** value for which the result seems to **stabilize**..."
   ]
  },
  {
   "cell_type": "code",
   "execution_count": 15,
   "metadata": {},
   "outputs": [
    {
     "name": "stdout",
     "output_type": "stream",
     "text": [
      "0.006057764789906606\n",
      "0.004348556706319506\n",
      "0.0011245529518126851\n",
      "0.000794800516329186\n",
      "2.701200485510924e-07\n",
      "0.000502438253438986\n",
      "0.00039988969485926784\n"
     ]
    }
   ],
   "source": [
    "optimal_iterations = result[optimal_k]\n",
    "\n",
    "for i in range(len(optimal_iterations) - 1):\n",
    "  print(abs(optimal_iterations[i] - optimal_iterations[i + 1]))\n"
   ]
  },
  {
   "cell_type": "markdown",
   "metadata": {},
   "source": [
    "As we see the optimal number of iterations is between **11-88**, and we can deduce that the results stabilize around **44**."
   ]
  },
  {
   "cell_type": "markdown",
   "metadata": {},
   "source": [
    "\n",
    "\n",
    "\n",
    "## **Plot the result data**"
   ]
  },
  {
   "cell_type": "markdown",
   "metadata": {},
   "source": [
    "Now for each value of k we can **plot** its mean accuracy across different number of Bootstrap iterations."
   ]
  },
  {
   "cell_type": "code",
   "execution_count": 16,
   "metadata": {},
   "outputs": [
    {
     "data": {
      "text/plain": [
       "(0.9, 0.98)"
      ]
     },
     "execution_count": 16,
     "metadata": {},
     "output_type": "execute_result"
    },
    {
     "data": {
      "image/png": "[encoded data removed]",
      "text/plain": [
       "<Figure size 640x480 with 1 Axes>"
      ]
     },
     "metadata": {},
     "output_type": "display_data"
    }
   ],
   "source": [
    "import matplotlib.pyplot as plt\n",
    "\n",
    "plt.plot(k_range, mean_for_k, marker='s', color='black')\n",
    "plt.xlabel('k value')\n",
    "plt.ylabel('Mean accuracy across iterations')\n",
    "plt.title('Change of accuracy for different values of k')\n",
    "plt.ylim(0.9, 0.98)"
   ]
  },
  {
   "cell_type": "markdown",
   "metadata": {},
   "source": [
    "As we see, for our problem as the **k increases** the **mean accuracy tends to decrease**, so our best option for k value is indeed **1**.  \n",
    "\n",
    "Let's also **visualize** how (for the best k) the change of number of iterations **impacts** model's calculated mean accuracy."
   ]
  },
  {
   "cell_type": "code",
   "execution_count": 17,
   "metadata": {},
   "outputs": [
    {
     "data": {
      "text/plain": [
       "(0.92, 0.96)"
      ]
     },
     "execution_count": 17,
     "metadata": {},
     "output_type": "execute_result"
    },
    {
     "data": {
      "image/png": "[encoded data removed]",
      "text/plain": [
       "<Figure size 640x480 with 1 Axes>"
      ]
     },
     "metadata": {},
     "output_type": "display_data"
    }
   ],
   "source": [
    "plt.plot(iter_range, optimal_iterations, marker='s', color='black')\n",
    "plt.xlabel('number of bootstrap iterations')\n",
    "plt.ylabel('mean accuracy of model')\n",
    "plt.title('Stabilization of Mean Accuracy Across Bootstrap Iterations')\n",
    "plt.ylim(0.92, 0.96)"
   ]
  },
  {
   "cell_type": "markdown",
   "metadata": {},
   "source": [
    "As we see, our plot **stabilizes** around 44 mark, so the best option for number of iterations is indeed **44**."
   ]
  },
  {
   "cell_type": "markdown",
   "metadata": {},
   "source": [
    "## **Final thoughts**\n",
    "\n",
    "We have explored and played around with different parameters for our KNN classifier and came to the conclusion that the best value for parameter k is 1, as the higher values tend to decrease the mean accuracy of the model. And the best value for number of Bootstrap Iterations is 44, cause from this point on, the calculated mean accuracy of the model seems to stabilize.\n",
    "\n",
    "---\n",
    "<div style=\"text-align: right;\">\n",
    "Piotr Stachowicz  \n",
    " \n",
    "337942\n",
    "</div>"
   ]
  }
 ],
 "metadata": {
  "kernelspec": {
   "display_name": "Python 3",
   "language": "python",
   "name": "python3"
  },
  "language_info": {
   "codemirror_mode": {
    "name": "ipython",
    "version": 3
   },
   "file_extension": ".py",
   "mimetype": "text/x-python",
   "name": "python",
   "nbconvert_exporter": "python",
   "pygments_lexer": "ipython3",
   "version": "3.10.12"
  }
 },
 "nbformat": 4,
 "nbformat_minor": 2
}
