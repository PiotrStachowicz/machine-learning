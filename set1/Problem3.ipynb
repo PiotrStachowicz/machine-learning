{
 "cells": [
  {
   "cell_type": "markdown",
   "metadata": {},
   "source": [
    "<div align=\"center\">\n",
    "  <h1>K-Means Clustering Algorithm</h1>\n",
    "  <p style=\"font-size: 14px;\">31.10.2024</p>\n",
    "</div>\n",
    "\n",
    "---\n",
    "\n",
    "# Problem 3: K-Means Clustering and Centroid Norm Averaging \n",
    "\n",
    "#### **Introduction**\n",
    "Upon generating **10000** samples from **2D Gaussian Distribution** we want to **cluster** those points into **3** blobs using **K-Means Algorithm**. The goal is to analize how the average norm of these centroids changes and empirically estimate the number of iterations needed to get to the **stable 9 digit accuracy**.\n",
    "\n",
    "#### **Data preparation**\n",
    "First we generate 10000 samples from **2D Gaussian Distribution** and also k=3 random centroids that define our labels. We also keep track of the changes made to our centroids in centroid_history array."
   ]
  },
  {
   "cell_type": "code",
   "execution_count": 62,
   "metadata": {},
   "outputs": [],
   "source": [
    "import matplotlib.pyplot as plt\n",
    "import numpy as np\n",
    "from tqdm import tqdm\n",
    "import pandas as pd\n",
    "\n",
    "# Problem setup\n",
    "n = 10000\n",
    "k = 3\n",
    "R_i = 124\n",
    "\n",
    "cov = [[1, 0], [0 ,1]]\n",
    "mean = [1, 1]\n",
    "\n",
    "point_labels = np.zeros(n)\n",
    "points = np.random.multivariate_normal(mean, cov, n)\n",
    "\n",
    "centroids = np.random.multivariate_normal(mean, cov, k) # centroids[0] means label '0' etc.\n",
    "centroid_history = [[] for i in range(k)]"
   ]
  },
  {
   "cell_type": "markdown",
   "metadata": {},
   "source": [
    "#### **Helper functions**\n",
    "- determine_label is a function that takes point and calculates which of the k centroids is closest to it, thus returning its label\n",
    "- new_centroid sums up all the points together (of a cluster/label) and calculates their cumulative point of mass or simply new centroid"
   ]
  },
  {
   "cell_type": "code",
   "execution_count": 63,
   "metadata": {},
   "outputs": [],
   "source": [
    "def determine_label(point):\n",
    "  label = 0\n",
    "  distance = np.linalg.norm(point - centroids[0])\n",
    "\n",
    "  for i in range(1, k):\n",
    "    new_distance = np.linalg.norm(point - centroids[i])\n",
    "\n",
    "    if (new_distance < distance):\n",
    "      label = i\n",
    "      distance = new_distance\n",
    "  \n",
    "  return label\n",
    "\n",
    "def new_centroid(label):\n",
    "  filter_out = np.zeros(len(point_labels), dtype=bool)\n",
    "  \n",
    "  for i in range(len(point_labels)):\n",
    "    filter_out[i] = (point_labels[i] == label)\n",
    "\n",
    "  S: np.ndarray = points[filter_out]\n",
    "  sigma = np.cumsum(S, axis=0)[-1]\n",
    "  return sigma / len(S)"
   ]
  },
  {
   "cell_type": "markdown",
   "metadata": {},
   "source": [
    "#### **K-means Algorithm**\n",
    "This algorithm is very simple and useful. It consists of these steps:\n",
    "- For every iteration i,\n",
    "    1. Determine Labels of each Point\n",
    "    2. Calculate new Centroid of each label/cluster\n"
   ]
  },
  {
   "cell_type": "code",
   "execution_count": 64,
   "metadata": {},
   "outputs": [
    {
     "name": "stderr",
     "output_type": "stream",
     "text": [
      "100%|██████████| 124/124 [00:06<00:00, 19.57it/s]\n"
     ]
    }
   ],
   "source": [
    "for i in tqdm(range(R_i)):\n",
    "  for p_idx in range(len(points)):\n",
    "    point = points[p_idx]\n",
    "    \n",
    "    point_labels[p_idx] = determine_label(point)\n",
    "\n",
    "    \n",
    "  for c_idx in range(len(centroids)):\n",
    "    centroid_history[c_idx].append(centroids[c_idx].copy())\n",
    "    centroids[c_idx] = new_centroid(c_idx)"
   ]
  },
  {
   "cell_type": "markdown",
   "metadata": {},
   "source": [
    "#### **History of Centorids analysis**\n",
    "Now we have captured all the changes made for each centroid throughout iterations. Now in each iteration i, we are going to calculate average norm of i-th centroids from history. "
   ]
  },
  {
   "cell_type": "code",
   "execution_count": 65,
   "metadata": {},
   "outputs": [
    {
     "name": "stdout",
     "output_type": "stream",
     "text": [
      "[np.float64(1.5678826302097992), np.float64(1.4332048291659714), np.float64(1.3937125523504834), np.float64(1.3589528637952197), np.float64(1.3959473799069235), np.float64(1.4584160054355488), np.float64(1.4986839934512926), np.float64(1.521976069291285), np.float64(1.5364685268997154), np.float64(1.5436811109615782), np.float64(1.5460749964041571), np.float64(1.548013744767772), np.float64(1.5488551798886487), np.float64(1.5497686205069234), np.float64(1.5501156646056067), np.float64(1.5506156849043853), np.float64(1.5506687468075777), np.float64(1.5506935976356442), np.float64(1.5505269829927524), np.float64(1.5506610162035266), np.float64(1.5508405249768238), np.float64(1.5510088646766438), np.float64(1.5510088646766438), np.float64(1.5510088646766438), np.float64(1.5510088646766438), np.float64(1.5510088646766438), np.float64(1.5510088646766438), np.float64(1.5510088646766438), np.float64(1.5510088646766438), np.float64(1.5510088646766438), np.float64(1.5510088646766438), np.float64(1.5510088646766438), np.float64(1.5510088646766438), np.float64(1.5510088646766438), np.float64(1.5510088646766438), np.float64(1.5510088646766438), np.float64(1.5510088646766438), np.float64(1.5510088646766438), np.float64(1.5510088646766438), np.float64(1.5510088646766438), np.float64(1.5510088646766438), np.float64(1.5510088646766438), np.float64(1.5510088646766438), np.float64(1.5510088646766438), np.float64(1.5510088646766438), np.float64(1.5510088646766438), np.float64(1.5510088646766438), np.float64(1.5510088646766438), np.float64(1.5510088646766438), np.float64(1.5510088646766438), np.float64(1.5510088646766438), np.float64(1.5510088646766438), np.float64(1.5510088646766438), np.float64(1.5510088646766438), np.float64(1.5510088646766438), np.float64(1.5510088646766438), np.float64(1.5510088646766438), np.float64(1.5510088646766438), np.float64(1.5510088646766438), np.float64(1.5510088646766438), np.float64(1.5510088646766438), np.float64(1.5510088646766438), np.float64(1.5510088646766438), np.float64(1.5510088646766438), np.float64(1.5510088646766438), np.float64(1.5510088646766438), np.float64(1.5510088646766438), np.float64(1.5510088646766438), np.float64(1.5510088646766438), np.float64(1.5510088646766438), np.float64(1.5510088646766438), np.float64(1.5510088646766438), np.float64(1.5510088646766438), np.float64(1.5510088646766438), np.float64(1.5510088646766438), np.float64(1.5510088646766438), np.float64(1.5510088646766438), np.float64(1.5510088646766438), np.float64(1.5510088646766438), np.float64(1.5510088646766438), np.float64(1.5510088646766438), np.float64(1.5510088646766438), np.float64(1.5510088646766438), np.float64(1.5510088646766438), np.float64(1.5510088646766438), np.float64(1.5510088646766438), np.float64(1.5510088646766438), np.float64(1.5510088646766438), np.float64(1.5510088646766438), np.float64(1.5510088646766438), np.float64(1.5510088646766438), np.float64(1.5510088646766438), np.float64(1.5510088646766438), np.float64(1.5510088646766438), np.float64(1.5510088646766438), np.float64(1.5510088646766438), np.float64(1.5510088646766438), np.float64(1.5510088646766438), np.float64(1.5510088646766438), np.float64(1.5510088646766438), np.float64(1.5510088646766438), np.float64(1.5510088646766438), np.float64(1.5510088646766438), np.float64(1.5510088646766438), np.float64(1.5510088646766438), np.float64(1.5510088646766438), np.float64(1.5510088646766438), np.float64(1.5510088646766438), np.float64(1.5510088646766438), np.float64(1.5510088646766438), np.float64(1.5510088646766438), np.float64(1.5510088646766438), np.float64(1.5510088646766438), np.float64(1.5510088646766438), np.float64(1.5510088646766438), np.float64(1.5510088646766438), np.float64(1.5510088646766438), np.float64(1.5510088646766438), np.float64(1.5510088646766438), np.float64(1.5510088646766438), np.float64(1.5510088646766438), np.float64(1.5510088646766438), np.float64(1.5510088646766438), np.float64(1.5510088646766438)]\n"
     ]
    }
   ],
   "source": [
    "average_norms = []\n",
    "\n",
    "for i in range(R_i):\n",
    "  norms = []\n",
    "\n",
    "  for j in range(k):\n",
    "    centroid = centroid_history[j][i]\n",
    "\n",
    "    norm = np.linalg.norm(centroid)\n",
    "    norms.append(norm)\n",
    "  \n",
    "  average = np.average(norms)\n",
    "\n",
    "  average_norms.append(average)\n",
    "\n",
    "print(average_norms)"
   ]
  },
  {
   "cell_type": "markdown",
   "metadata": {},
   "source": [
    "As stated in the problemset, now we are going to calcualte Cumulative Averages of norms. We also keep track of lowest index that reaches $10^{-9}$ mark."
   ]
  },
  {
   "cell_type": "code",
   "execution_count": 66,
   "metadata": {},
   "outputs": [
    {
     "name": "stdout",
     "output_type": "stream",
     "text": [
      "22\n"
     ]
    }
   ],
   "source": [
    "result = []\n",
    "best_i = R_i\n",
    "last_cumavg = float('inf')\n",
    "elipson = 1e-9\n",
    "\n",
    "for i in range(R_i):\n",
    "  cumavg = np.average(average_norms[i:])\n",
    "\n",
    "  if abs(cumavg - last_cumavg) < elipson and i < best_i:\n",
    "    best_i = i\n",
    "\n",
    "  last_cumavg = cumavg\n",
    "\n",
    "  result.append(cumavg)\n",
    "\n",
    "print(best_i)\n"
   ]
  },
  {
   "cell_type": "markdown",
   "metadata": {},
   "source": [
    "I gave this program couple of tries, and the anwser lies around 30, as for the latest run, I got 22... great, this is much lower than 88 as stated in the problem.\n",
    "\n",
    "#### **Plotting the Cumulative Averages**"
   ]
  },
  {
   "cell_type": "code",
   "execution_count": 67,
   "metadata": {},
   "outputs": [
    {
     "data": {
      "image/png": "[encoded data removed]",
      "text/plain": [
       "<Figure size 640x480 with 1 Axes>"
      ]
     },
     "metadata": {},
     "output_type": "display_data"
    }
   ],
   "source": [
    "plt.title('Change of Cumulative Averages through iterations')\n",
    "plt.ylabel('Cumulative Average')\n",
    "plt.xlabel('Iteration')\n",
    "plt.ylim(np.min(result) - 0.03, np.max(result) + 0.03)\n",
    "plt.plot(range(R_i), result)\n",
    "plt.show()\n"
   ]
  },
  {
   "cell_type": "markdown",
   "metadata": {},
   "source": [
    "---\n",
    "<div style=\"text-align: right;\">\n",
    "Piotr Stachowicz  \n",
    " \n",
    "337942\n",
    "</div>"
   ]
  }
 ],
 "metadata": {
  "kernelspec": {
   "display_name": "Python 3",
   "language": "python",
   "name": "python3"
  },
  "language_info": {
   "codemirror_mode": {
    "name": "ipython",
    "version": 3
   },
   "file_extension": ".py",
   "mimetype": "text/x-python",
   "name": "python",
   "nbconvert_exporter": "python",
   "pygments_lexer": "ipython3",
   "version": "3.10.12"
  }
 },
 "nbformat": 4,
 "nbformat_minor": 2
}
