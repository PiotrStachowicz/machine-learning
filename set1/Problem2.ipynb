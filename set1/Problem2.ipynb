{
 "cells": [
  {
   "cell_type": "markdown",
   "metadata": {},
   "source": [
    "<div align=\"center\">\n",
    "  <h1>Finding Optimal k for KNN using LLO CV</h1>\n",
    "  <p style=\"font-size: 14px;\">29.10.2024</p>\n",
    "</div>\n",
    "\n",
    "---"
   ]
  },
  {
   "cell_type": "markdown",
   "metadata": {},
   "source": [
    "## **Problem 2: Finding the optimal *k* using Leave-One-Out Cross-Validation**\n",
    "\n",
    "In this problem we try to find the **optimal k** value for **KNN classifier** of **MNIST** handwritten digits using **LLO CV** validation method.\n",
    "As before we are going to use the **KNeighborsClassifier** from the *sklearn.neighbors* library, fetch and preprocess the data."
   ]
  },
  {
   "cell_type": "code",
   "execution_count": 1,
   "metadata": {},
   "outputs": [
    {
     "name": "stdout",
     "output_type": "stream",
     "text": [
      "True\n"
     ]
    }
   ],
   "source": [
    "from sklearn.neighbors import KNeighborsClassifier\n",
    "from sklearn.datasets import fetch_openml\n",
    "import pandas as pd\n",
    "import numpy as np\n",
    "from tqdm import tqdm\n",
    "\n",
    "dataset: pd.DataFrame = fetch_openml('mnist_784')\n",
    "\n",
    "data: pd.DataFrame = dataset['data']\n",
    "labels: pd.Series = dataset['target']\n",
    "\n",
    "data = data / 255.0\n",
    "\n",
    "data['label'] = labels\n",
    "\n",
    "# We use 10% of the dataset for faster experimentation\n",
    "data: pd.DataFrame = data.sample(frac=0.1)\n",
    "\n",
    "# We want np.nrray because they are about 100x as it comes to indexing...\n",
    "labels = data['label'].to_numpy()\n",
    "data = data.drop('label', axis=1).values\n",
    "\n",
    "data = np.ascontiguousarray(data)\n",
    "labels = np.ascontiguousarray(labels)\n",
    "\n",
    "print(data.flags['C_CONTIGUOUS'])"
   ]
  },
  {
   "cell_type": "markdown",
   "metadata": {},
   "source": [
    "When our data/label ndarrays are not stored in a contigous memory we get about **2x slower code** when testing our model!"
   ]
  },
  {
   "cell_type": "markdown",
   "metadata": {},
   "source": [
    "## Leave-One-Out Cross-Validation\n",
    "\n",
    "**LLO CV** method consists of these steps:\n",
    "- **Fit** the KNN model with **n-1** data points, where n is the number of samples\n",
    "- **Validate** the model on the **single** point left out\n",
    "- Repeat for every data point and calculate overall **accuracy**\n",
    "  \n",
    "Now we are going to **calculate accuracy** using LLO CV method for each value of k"
   ]
  },
  {
   "cell_type": "code",
   "execution_count": 63,
   "metadata": {},
   "outputs": [
    {
     "name": "stderr",
     "output_type": "stream",
     "text": [
      "100%|██████████| 7000/7000 [02:28<00:00, 47.07it/s]\n",
      "100%|██████████| 7000/7000 [02:37<00:00, 44.51it/s]\n",
      "100%|██████████| 7000/7000 [02:34<00:00, 45.26it/s]\n",
      "100%|██████████| 7000/7000 [02:27<00:00, 47.44it/s]\n",
      "100%|██████████| 7000/7000 [02:26<00:00, 47.72it/s]\n",
      "100%|██████████| 7000/7000 [02:27<00:00, 47.55it/s]\n",
      "100%|██████████| 7000/7000 [02:24<00:00, 48.60it/s]\n",
      "100%|██████████| 7000/7000 [02:20<00:00, 49.93it/s]\n",
      "100%|██████████| 7000/7000 [02:21<00:00, 49.56it/s]\n",
      "100%|██████████| 7000/7000 [02:20<00:00, 49.96it/s]"
     ]
    },
    {
     "name": "stdout",
     "output_type": "stream",
     "text": [
      "{1: 0.943, 2: 0.9288571428571428, 3: 0.9405714285714286, 4: 0.9422857142857143, 5: 0.94, 6: 0.9395714285714286, 7: 0.94, 8: 0.9382857142857143, 9: 0.9381428571428572, 10: 0.9375714285714286}\n"
     ]
    },
    {
     "name": "stderr",
     "output_type": "stream",
     "text": [
      "\n"
     ]
    }
   ],
   "source": [
    "k_range = range(1, 11)\n",
    "result = {}\n",
    "\n",
    "for k in k_range:\n",
    "    success = 0\n",
    "    times = 0\n",
    "\n",
    "    # LOO CV for each point\n",
    "    for n in tqdm(range(len(data))):\n",
    "        y_train = np.delete(labels, n)\n",
    "        x_train = np.delete(data, n, axis=0)\n",
    "\n",
    "        knn = KNeighborsClassifier(n_neighbors=k)\n",
    "\n",
    "        knn.fit(x_train, y_train)\n",
    "\n",
    "        x_valid = data[n]\n",
    "        y_valid = labels[n]\n",
    "        \n",
    "        preds: np.ndarray = knn.predict([x_valid])\n",
    "\n",
    "        if preds[0] == y_valid:\n",
    "            success += 1\n",
    "        \n",
    "        times += 1\n",
    "    \n",
    "    result[k] = success / times\n",
    "\n",
    "print(result)\n"
   ]
  },
  {
   "cell_type": "markdown",
   "metadata": {},
   "source": [
    "As we see, the best value for k is **1**, as higher values tend to decrease the mean accuracy of our KNN model.  \n",
    "###### Note that we also got this result in previous problem :)\n",
    "\n",
    "## **Plot the result**\n",
    "\n",
    "First we can **select**, the **best value for k** as max from the result we got in previous *block*, and then we can **plot** the mean accuracy of model for each k."
   ]
  },
  {
   "cell_type": "code",
   "execution_count": 64,
   "metadata": {},
   "outputs": [
    {
     "name": "stdout",
     "output_type": "stream",
     "text": [
      "1\n"
     ]
    },
    {
     "data": {
      "image/png": "[encoded data removed]",
      "text/plain": [
       "<Figure size 640x480 with 1 Axes>"
      ]
     },
     "metadata": {},
     "output_type": "display_data"
    }
   ],
   "source": [
    "import matplotlib.pyplot as plt\n",
    "\n",
    "best_k = max(result, key=result.get)\n",
    "\n",
    "print(best_k)\n",
    "\n",
    "k_accuracy = [mean for index, mean in result.items()]\n",
    "\n",
    "plt.plot(k_range, k_accuracy, marker='s', color='black')\n",
    "plt.xlabel('k value')\n",
    "plt.ylabel('Mean accuracy of the model')\n",
    "plt.title('KNN Mean Accuracy Over k')\n",
    "plt.ylim(0.9, 0.98)\n",
    "plt.show()"
   ]
  },
  {
   "cell_type": "markdown",
   "metadata": {},
   "source": [
    "## **Final Thoughts**\n",
    "\n",
    "Using **Leave-One-Out Cross-Validation** (LOO CV), we deduced k=1 as the optimal value for KNN classifier for MNIST hand-written digist.\n",
    "\n",
    "---\n",
    "<div style=\"text-align: right;\">\n",
    "Piotr Stachowicz  \n",
    " \n",
    "337942\n",
    "</div>"
   ]
  }
 ],
 "metadata": {
  "kernelspec": {
   "display_name": "Python 3",
   "language": "python",
   "name": "python3"
  },
  "language_info": {
   "codemirror_mode": {
    "name": "ipython",
    "version": 3
   },
   "file_extension": ".py",
   "mimetype": "text/x-python",
   "name": "python",
   "nbconvert_exporter": "python",
   "pygments_lexer": "ipython3",
   "version": "3.10.12"
  }
 },
 "nbformat": 4,
 "nbformat_minor": 2
}
